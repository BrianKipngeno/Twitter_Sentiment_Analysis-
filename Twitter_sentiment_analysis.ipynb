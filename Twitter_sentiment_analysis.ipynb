{
  "nbformat": 4,
  "nbformat_minor": 0,
  "metadata": {
    "colab": {
      "provenance": [],
      "authorship_tag": "ABX9TyP5PDhdh+CdDrwDbPSiKLvm",
      "include_colab_link": true
    },
    "kernelspec": {
      "name": "python3",
      "display_name": "Python 3"
    },
    "language_info": {
      "name": "python"
    }
  },
  "cells": [
    {
      "cell_type": "markdown",
      "metadata": {
        "id": "view-in-github",
        "colab_type": "text"
      },
      "source": [
        "<a href=\"https://colab.research.google.com/github/BrianKipngeno/Twitter_Sentiment_Analysis-/blob/main/Twitter_sentiment_analysis.ipynb\" target=\"_parent\"><img src=\"https://colab.research.google.com/assets/colab-badge.svg\" alt=\"Open In Colab\"/></a>"
      ]
    },
    {
      "cell_type": "code",
      "execution_count": 1,
      "metadata": {
        "id": "iOfNXaVLfd4u"
      },
      "outputs": [],
      "source": [
        "#Import the Standard libraries\n",
        "import pandas as pd\n",
        "import numpy as np\n",
        "import matplotlib.pyplot as plt\n",
        "import seaborn as sns\n",
        "import plotly.express as px\n",
        "from wordcloud import WordCloud\n",
        "import warnings\n",
        "warnings.filterwarnings('ignore')"
      ]
    },
    {
      "cell_type": "markdown",
      "source": [
        "DATA PREPROCESSING"
      ],
      "metadata": {
        "id": "AkrRV1B0gDDj"
      }
    },
    {
      "cell_type": "code",
      "source": [
        "#Load the dataset\n",
        "data=pd.read_csv('/content/MeTooHate.csv')\n",
        "data.head()"
      ],
      "metadata": {
        "colab": {
          "base_uri": "https://localhost:8080/",
          "height": 591
        },
        "id": "kebdo0d0gFex",
        "outputId": "2835f967-4947-4e95-9338-9dcbdc751eb3"
      },
      "execution_count": 4,
      "outputs": [
        {
          "output_type": "execute_result",
          "data": {
            "text/plain": [
              "             status_id                                               text  \\\n",
              "0  1046207313588236290  Entitled, obnoxious, defensive, lying weasel. ...   \n",
              "1  1046207328113086464  Thank you  and  for what you did for the women...   \n",
              "2  1046207329589493760  Knitting (s) &amp; getting ready for January 1...   \n",
              "3  1046207341283168256  Yep just like triffeling women weaponized thei...   \n",
              "4  1046207347016826880  No, the President wants to end  movement posin...   \n",
              "\n",
              "             created_at  favorite_count  retweet_count         location  \\\n",
              "0  2018-09-30T01:17:15Z             5.0            1.0      McAllen, TX   \n",
              "1  2018-09-30T01:17:19Z             5.0            2.0        Tampa, FL   \n",
              "2  2018-09-30T01:17:19Z             0.0            0.0     St Cloud, MN   \n",
              "3  2018-09-30T01:17:22Z             1.0            0.0  flyover country   \n",
              "4  2018-09-30T01:17:23Z             0.0            0.0            World   \n",
              "\n",
              "   followers_count  friends_count  statuses_count  category  \n",
              "0           2253.0         2303.0         23856.0       0.0  \n",
              "1           2559.0         4989.0         19889.0       0.0  \n",
              "2             16.0          300.0             9.0       0.0  \n",
              "3           3573.0         3732.0         38361.0       1.0  \n",
              "4            294.0          312.0          7635.0       0.0  "
            ],
            "text/html": [
              "\n",
              "  <div id=\"df-a925b9b1-8432-4b8f-bb78-4af4bc1db834\" class=\"colab-df-container\">\n",
              "    <div>\n",
              "<style scoped>\n",
              "    .dataframe tbody tr th:only-of-type {\n",
              "        vertical-align: middle;\n",
              "    }\n",
              "\n",
              "    .dataframe tbody tr th {\n",
              "        vertical-align: top;\n",
              "    }\n",
              "\n",
              "    .dataframe thead th {\n",
              "        text-align: right;\n",
              "    }\n",
              "</style>\n",
              "<table border=\"1\" class=\"dataframe\">\n",
              "  <thead>\n",
              "    <tr style=\"text-align: right;\">\n",
              "      <th></th>\n",
              "      <th>status_id</th>\n",
              "      <th>text</th>\n",
              "      <th>created_at</th>\n",
              "      <th>favorite_count</th>\n",
              "      <th>retweet_count</th>\n",
              "      <th>location</th>\n",
              "      <th>followers_count</th>\n",
              "      <th>friends_count</th>\n",
              "      <th>statuses_count</th>\n",
              "      <th>category</th>\n",
              "    </tr>\n",
              "  </thead>\n",
              "  <tbody>\n",
              "    <tr>\n",
              "      <th>0</th>\n",
              "      <td>1046207313588236290</td>\n",
              "      <td>Entitled, obnoxious, defensive, lying weasel. ...</td>\n",
              "      <td>2018-09-30T01:17:15Z</td>\n",
              "      <td>5.0</td>\n",
              "      <td>1.0</td>\n",
              "      <td>McAllen, TX</td>\n",
              "      <td>2253.0</td>\n",
              "      <td>2303.0</td>\n",
              "      <td>23856.0</td>\n",
              "      <td>0.0</td>\n",
              "    </tr>\n",
              "    <tr>\n",
              "      <th>1</th>\n",
              "      <td>1046207328113086464</td>\n",
              "      <td>Thank you  and  for what you did for the women...</td>\n",
              "      <td>2018-09-30T01:17:19Z</td>\n",
              "      <td>5.0</td>\n",
              "      <td>2.0</td>\n",
              "      <td>Tampa, FL</td>\n",
              "      <td>2559.0</td>\n",
              "      <td>4989.0</td>\n",
              "      <td>19889.0</td>\n",
              "      <td>0.0</td>\n",
              "    </tr>\n",
              "    <tr>\n",
              "      <th>2</th>\n",
              "      <td>1046207329589493760</td>\n",
              "      <td>Knitting (s) &amp;amp; getting ready for January 1...</td>\n",
              "      <td>2018-09-30T01:17:19Z</td>\n",
              "      <td>0.0</td>\n",
              "      <td>0.0</td>\n",
              "      <td>St Cloud, MN</td>\n",
              "      <td>16.0</td>\n",
              "      <td>300.0</td>\n",
              "      <td>9.0</td>\n",
              "      <td>0.0</td>\n",
              "    </tr>\n",
              "    <tr>\n",
              "      <th>3</th>\n",
              "      <td>1046207341283168256</td>\n",
              "      <td>Yep just like triffeling women weaponized thei...</td>\n",
              "      <td>2018-09-30T01:17:22Z</td>\n",
              "      <td>1.0</td>\n",
              "      <td>0.0</td>\n",
              "      <td>flyover country</td>\n",
              "      <td>3573.0</td>\n",
              "      <td>3732.0</td>\n",
              "      <td>38361.0</td>\n",
              "      <td>1.0</td>\n",
              "    </tr>\n",
              "    <tr>\n",
              "      <th>4</th>\n",
              "      <td>1046207347016826880</td>\n",
              "      <td>No, the President wants to end  movement posin...</td>\n",
              "      <td>2018-09-30T01:17:23Z</td>\n",
              "      <td>0.0</td>\n",
              "      <td>0.0</td>\n",
              "      <td>World</td>\n",
              "      <td>294.0</td>\n",
              "      <td>312.0</td>\n",
              "      <td>7635.0</td>\n",
              "      <td>0.0</td>\n",
              "    </tr>\n",
              "  </tbody>\n",
              "</table>\n",
              "</div>\n",
              "    <div class=\"colab-df-buttons\">\n",
              "\n",
              "  <div class=\"colab-df-container\">\n",
              "    <button class=\"colab-df-convert\" onclick=\"convertToInteractive('df-a925b9b1-8432-4b8f-bb78-4af4bc1db834')\"\n",
              "            title=\"Convert this dataframe to an interactive table.\"\n",
              "            style=\"display:none;\">\n",
              "\n",
              "  <svg xmlns=\"http://www.w3.org/2000/svg\" height=\"24px\" viewBox=\"0 -960 960 960\">\n",
              "    <path d=\"M120-120v-720h720v720H120Zm60-500h600v-160H180v160Zm220 220h160v-160H400v160Zm0 220h160v-160H400v160ZM180-400h160v-160H180v160Zm440 0h160v-160H620v160ZM180-180h160v-160H180v160Zm440 0h160v-160H620v160Z\"/>\n",
              "  </svg>\n",
              "    </button>\n",
              "\n",
              "  <style>\n",
              "    .colab-df-container {\n",
              "      display:flex;\n",
              "      gap: 12px;\n",
              "    }\n",
              "\n",
              "    .colab-df-convert {\n",
              "      background-color: #E8F0FE;\n",
              "      border: none;\n",
              "      border-radius: 50%;\n",
              "      cursor: pointer;\n",
              "      display: none;\n",
              "      fill: #1967D2;\n",
              "      height: 32px;\n",
              "      padding: 0 0 0 0;\n",
              "      width: 32px;\n",
              "    }\n",
              "\n",
              "    .colab-df-convert:hover {\n",
              "      background-color: #E2EBFA;\n",
              "      box-shadow: 0px 1px 2px rgba(60, 64, 67, 0.3), 0px 1px 3px 1px rgba(60, 64, 67, 0.15);\n",
              "      fill: #174EA6;\n",
              "    }\n",
              "\n",
              "    .colab-df-buttons div {\n",
              "      margin-bottom: 4px;\n",
              "    }\n",
              "\n",
              "    [theme=dark] .colab-df-convert {\n",
              "      background-color: #3B4455;\n",
              "      fill: #D2E3FC;\n",
              "    }\n",
              "\n",
              "    [theme=dark] .colab-df-convert:hover {\n",
              "      background-color: #434B5C;\n",
              "      box-shadow: 0px 1px 3px 1px rgba(0, 0, 0, 0.15);\n",
              "      filter: drop-shadow(0px 1px 2px rgba(0, 0, 0, 0.3));\n",
              "      fill: #FFFFFF;\n",
              "    }\n",
              "  </style>\n",
              "\n",
              "    <script>\n",
              "      const buttonEl =\n",
              "        document.querySelector('#df-a925b9b1-8432-4b8f-bb78-4af4bc1db834 button.colab-df-convert');\n",
              "      buttonEl.style.display =\n",
              "        google.colab.kernel.accessAllowed ? 'block' : 'none';\n",
              "\n",
              "      async function convertToInteractive(key) {\n",
              "        const element = document.querySelector('#df-a925b9b1-8432-4b8f-bb78-4af4bc1db834');\n",
              "        const dataTable =\n",
              "          await google.colab.kernel.invokeFunction('convertToInteractive',\n",
              "                                                    [key], {});\n",
              "        if (!dataTable) return;\n",
              "\n",
              "        const docLinkHtml = 'Like what you see? Visit the ' +\n",
              "          '<a target=\"_blank\" href=https://colab.research.google.com/notebooks/data_table.ipynb>data table notebook</a>'\n",
              "          + ' to learn more about interactive tables.';\n",
              "        element.innerHTML = '';\n",
              "        dataTable['output_type'] = 'display_data';\n",
              "        await google.colab.output.renderOutput(dataTable, element);\n",
              "        const docLink = document.createElement('div');\n",
              "        docLink.innerHTML = docLinkHtml;\n",
              "        element.appendChild(docLink);\n",
              "      }\n",
              "    </script>\n",
              "  </div>\n",
              "\n",
              "\n",
              "<div id=\"df-ae36dbd5-9c70-4d92-bb7b-bbe8ef5a83db\">\n",
              "  <button class=\"colab-df-quickchart\" onclick=\"quickchart('df-ae36dbd5-9c70-4d92-bb7b-bbe8ef5a83db')\"\n",
              "            title=\"Suggest charts\"\n",
              "            style=\"display:none;\">\n",
              "\n",
              "<svg xmlns=\"http://www.w3.org/2000/svg\" height=\"24px\"viewBox=\"0 0 24 24\"\n",
              "     width=\"24px\">\n",
              "    <g>\n",
              "        <path d=\"M19 3H5c-1.1 0-2 .9-2 2v14c0 1.1.9 2 2 2h14c1.1 0 2-.9 2-2V5c0-1.1-.9-2-2-2zM9 17H7v-7h2v7zm4 0h-2V7h2v10zm4 0h-2v-4h2v4z\"/>\n",
              "    </g>\n",
              "</svg>\n",
              "  </button>\n",
              "\n",
              "<style>\n",
              "  .colab-df-quickchart {\n",
              "      --bg-color: #E8F0FE;\n",
              "      --fill-color: #1967D2;\n",
              "      --hover-bg-color: #E2EBFA;\n",
              "      --hover-fill-color: #174EA6;\n",
              "      --disabled-fill-color: #AAA;\n",
              "      --disabled-bg-color: #DDD;\n",
              "  }\n",
              "\n",
              "  [theme=dark] .colab-df-quickchart {\n",
              "      --bg-color: #3B4455;\n",
              "      --fill-color: #D2E3FC;\n",
              "      --hover-bg-color: #434B5C;\n",
              "      --hover-fill-color: #FFFFFF;\n",
              "      --disabled-bg-color: #3B4455;\n",
              "      --disabled-fill-color: #666;\n",
              "  }\n",
              "\n",
              "  .colab-df-quickchart {\n",
              "    background-color: var(--bg-color);\n",
              "    border: none;\n",
              "    border-radius: 50%;\n",
              "    cursor: pointer;\n",
              "    display: none;\n",
              "    fill: var(--fill-color);\n",
              "    height: 32px;\n",
              "    padding: 0;\n",
              "    width: 32px;\n",
              "  }\n",
              "\n",
              "  .colab-df-quickchart:hover {\n",
              "    background-color: var(--hover-bg-color);\n",
              "    box-shadow: 0 1px 2px rgba(60, 64, 67, 0.3), 0 1px 3px 1px rgba(60, 64, 67, 0.15);\n",
              "    fill: var(--button-hover-fill-color);\n",
              "  }\n",
              "\n",
              "  .colab-df-quickchart-complete:disabled,\n",
              "  .colab-df-quickchart-complete:disabled:hover {\n",
              "    background-color: var(--disabled-bg-color);\n",
              "    fill: var(--disabled-fill-color);\n",
              "    box-shadow: none;\n",
              "  }\n",
              "\n",
              "  .colab-df-spinner {\n",
              "    border: 2px solid var(--fill-color);\n",
              "    border-color: transparent;\n",
              "    border-bottom-color: var(--fill-color);\n",
              "    animation:\n",
              "      spin 1s steps(1) infinite;\n",
              "  }\n",
              "\n",
              "  @keyframes spin {\n",
              "    0% {\n",
              "      border-color: transparent;\n",
              "      border-bottom-color: var(--fill-color);\n",
              "      border-left-color: var(--fill-color);\n",
              "    }\n",
              "    20% {\n",
              "      border-color: transparent;\n",
              "      border-left-color: var(--fill-color);\n",
              "      border-top-color: var(--fill-color);\n",
              "    }\n",
              "    30% {\n",
              "      border-color: transparent;\n",
              "      border-left-color: var(--fill-color);\n",
              "      border-top-color: var(--fill-color);\n",
              "      border-right-color: var(--fill-color);\n",
              "    }\n",
              "    40% {\n",
              "      border-color: transparent;\n",
              "      border-right-color: var(--fill-color);\n",
              "      border-top-color: var(--fill-color);\n",
              "    }\n",
              "    60% {\n",
              "      border-color: transparent;\n",
              "      border-right-color: var(--fill-color);\n",
              "    }\n",
              "    80% {\n",
              "      border-color: transparent;\n",
              "      border-right-color: var(--fill-color);\n",
              "      border-bottom-color: var(--fill-color);\n",
              "    }\n",
              "    90% {\n",
              "      border-color: transparent;\n",
              "      border-bottom-color: var(--fill-color);\n",
              "    }\n",
              "  }\n",
              "</style>\n",
              "\n",
              "  <script>\n",
              "    async function quickchart(key) {\n",
              "      const quickchartButtonEl =\n",
              "        document.querySelector('#' + key + ' button');\n",
              "      quickchartButtonEl.disabled = true;  // To prevent multiple clicks.\n",
              "      quickchartButtonEl.classList.add('colab-df-spinner');\n",
              "      try {\n",
              "        const charts = await google.colab.kernel.invokeFunction(\n",
              "            'suggestCharts', [key], {});\n",
              "      } catch (error) {\n",
              "        console.error('Error during call to suggestCharts:', error);\n",
              "      }\n",
              "      quickchartButtonEl.classList.remove('colab-df-spinner');\n",
              "      quickchartButtonEl.classList.add('colab-df-quickchart-complete');\n",
              "    }\n",
              "    (() => {\n",
              "      let quickchartButtonEl =\n",
              "        document.querySelector('#df-ae36dbd5-9c70-4d92-bb7b-bbe8ef5a83db button');\n",
              "      quickchartButtonEl.style.display =\n",
              "        google.colab.kernel.accessAllowed ? 'block' : 'none';\n",
              "    })();\n",
              "  </script>\n",
              "</div>\n",
              "    </div>\n",
              "  </div>\n"
            ]
          },
          "metadata": {},
          "execution_count": 4
        }
      ]
    },
    {
      "cell_type": "code",
      "source": [
        "data.info()"
      ],
      "metadata": {
        "colab": {
          "base_uri": "https://localhost:8080/"
        },
        "id": "yrXEChlzg5u7",
        "outputId": "e7f47cf2-4d50-401c-88f7-7add958da157"
      },
      "execution_count": 5,
      "outputs": [
        {
          "output_type": "stream",
          "name": "stdout",
          "text": [
            "<class 'pandas.core.frame.DataFrame'>\n",
            "RangeIndex: 75436 entries, 0 to 75435\n",
            "Data columns (total 10 columns):\n",
            " #   Column           Non-Null Count  Dtype  \n",
            "---  ------           --------------  -----  \n",
            " 0   status_id        75436 non-null  object \n",
            " 1   text             75116 non-null  object \n",
            " 2   created_at       75433 non-null  object \n",
            " 3   favorite_count   75433 non-null  float64\n",
            " 4   retweet_count    75433 non-null  float64\n",
            " 5   location         56658 non-null  object \n",
            " 6   followers_count  75432 non-null  float64\n",
            " 7   friends_count    75432 non-null  float64\n",
            " 8   statuses_count   75432 non-null  float64\n",
            " 9   category         75432 non-null  float64\n",
            "dtypes: float64(6), object(4)\n",
            "memory usage: 5.8+ MB\n"
          ]
        }
      ]
    },
    {
      "cell_type": "code",
      "source": [
        "data.shape"
      ],
      "metadata": {
        "colab": {
          "base_uri": "https://localhost:8080/"
        },
        "id": "G5n-sMnRg9GS",
        "outputId": "d57dd773-2b69-4d76-989c-b7d9c20edff0"
      },
      "execution_count": 6,
      "outputs": [
        {
          "output_type": "execute_result",
          "data": {
            "text/plain": [
              "(75436, 10)"
            ]
          },
          "metadata": {},
          "execution_count": 6
        }
      ]
    },
    {
      "cell_type": "code",
      "source": [
        "#Checking the null values in the data\n",
        "data.isna().sum()/len(data)*100"
      ],
      "metadata": {
        "colab": {
          "base_uri": "https://localhost:8080/"
        },
        "id": "rlA-p3Wug_oq",
        "outputId": "a01cbd04-75e5-4fe2-9462-9a05d581abc7"
      },
      "execution_count": 7,
      "outputs": [
        {
          "output_type": "execute_result",
          "data": {
            "text/plain": [
              "status_id           0.000000\n",
              "text                0.424201\n",
              "created_at          0.003977\n",
              "favorite_count      0.003977\n",
              "retweet_count       0.003977\n",
              "location           24.892624\n",
              "followers_count     0.005303\n",
              "friends_count       0.005303\n",
              "statuses_count      0.005303\n",
              "category            0.005303\n",
              "dtype: float64"
            ]
          },
          "metadata": {},
          "execution_count": 7
        }
      ]
    },
    {
      "cell_type": "markdown",
      "source": [
        "Exploratory Data Analysis"
      ],
      "metadata": {
        "id": "WAR-0eo3hI-_"
      }
    },
    {
      "cell_type": "code",
      "source": [
        "#Create a function to checking the null values in the data with percentagein order wise.\n",
        "\n",
        "def checking_null_values(df):\n",
        "    #we creat a for loop that will return which columns have null columns\n",
        "    na_columns=[col for col in df.columns if df[col].isna().sum()>0]\n",
        "    # We find the null values in the null columns this values or arranged in ascending format\n",
        "    na_miss=df[na_columns].isna().sum().sort_values(ascending=False)\n",
        "    #and this code will be multiplication with 100 covert in to percentage\n",
        "    ratio=(df[na_columns].isna().sum()/df.shape[0]*100).sort_values(ascending=False)\n",
        "    # then we finally concat the miss_values and percentge with np.round 2 values and finally we create a data frame\n",
        "    missing_df=pd.concat([na_miss,np.round(ratio,2)],axis=1,keys=['Null values','Percentage'])\n",
        "    missing_df=pd.DataFrame(missing_df)\n",
        "    return missing_df.style.background_gradient(cmap='winter_r')\n",
        "checking_null_values(data)"
      ],
      "metadata": {
        "colab": {
          "base_uri": "https://localhost:8080/",
          "height": 332
        },
        "id": "LNhIy6cwhDU3",
        "outputId": "77c83d0d-152d-43a2-93ad-728f40daaeb5"
      },
      "execution_count": 9,
      "outputs": [
        {
          "output_type": "execute_result",
          "data": {
            "text/plain": [
              "<pandas.io.formats.style.Styler at 0x79f6f0766e60>"
            ],
            "text/html": [
              "<style type=\"text/css\">\n",
              "#T_0b613_row0_col0, #T_0b613_row0_col1 {\n",
              "  background-color: #0000ff;\n",
              "  color: #f1f1f1;\n",
              "}\n",
              "#T_0b613_row1_col0, #T_0b613_row1_col1 {\n",
              "  background-color: #00fb82;\n",
              "  color: #000000;\n",
              "}\n",
              "#T_0b613_row2_col0, #T_0b613_row2_col1, #T_0b613_row3_col0, #T_0b613_row3_col1, #T_0b613_row4_col0, #T_0b613_row4_col1, #T_0b613_row5_col0, #T_0b613_row5_col1, #T_0b613_row6_col0, #T_0b613_row6_col1, #T_0b613_row7_col0, #T_0b613_row7_col1, #T_0b613_row8_col0, #T_0b613_row8_col1 {\n",
              "  background-color: #00ff80;\n",
              "  color: #000000;\n",
              "}\n",
              "</style>\n",
              "<table id=\"T_0b613\" class=\"dataframe\">\n",
              "  <thead>\n",
              "    <tr>\n",
              "      <th class=\"blank level0\" >&nbsp;</th>\n",
              "      <th id=\"T_0b613_level0_col0\" class=\"col_heading level0 col0\" >Null values</th>\n",
              "      <th id=\"T_0b613_level0_col1\" class=\"col_heading level0 col1\" >Percentage</th>\n",
              "    </tr>\n",
              "  </thead>\n",
              "  <tbody>\n",
              "    <tr>\n",
              "      <th id=\"T_0b613_level0_row0\" class=\"row_heading level0 row0\" >location</th>\n",
              "      <td id=\"T_0b613_row0_col0\" class=\"data row0 col0\" >18778</td>\n",
              "      <td id=\"T_0b613_row0_col1\" class=\"data row0 col1\" >24.890000</td>\n",
              "    </tr>\n",
              "    <tr>\n",
              "      <th id=\"T_0b613_level0_row1\" class=\"row_heading level0 row1\" >text</th>\n",
              "      <td id=\"T_0b613_row1_col0\" class=\"data row1 col0\" >320</td>\n",
              "      <td id=\"T_0b613_row1_col1\" class=\"data row1 col1\" >0.420000</td>\n",
              "    </tr>\n",
              "    <tr>\n",
              "      <th id=\"T_0b613_level0_row2\" class=\"row_heading level0 row2\" >followers_count</th>\n",
              "      <td id=\"T_0b613_row2_col0\" class=\"data row2 col0\" >4</td>\n",
              "      <td id=\"T_0b613_row2_col1\" class=\"data row2 col1\" >0.010000</td>\n",
              "    </tr>\n",
              "    <tr>\n",
              "      <th id=\"T_0b613_level0_row3\" class=\"row_heading level0 row3\" >friends_count</th>\n",
              "      <td id=\"T_0b613_row3_col0\" class=\"data row3 col0\" >4</td>\n",
              "      <td id=\"T_0b613_row3_col1\" class=\"data row3 col1\" >0.010000</td>\n",
              "    </tr>\n",
              "    <tr>\n",
              "      <th id=\"T_0b613_level0_row4\" class=\"row_heading level0 row4\" >statuses_count</th>\n",
              "      <td id=\"T_0b613_row4_col0\" class=\"data row4 col0\" >4</td>\n",
              "      <td id=\"T_0b613_row4_col1\" class=\"data row4 col1\" >0.010000</td>\n",
              "    </tr>\n",
              "    <tr>\n",
              "      <th id=\"T_0b613_level0_row5\" class=\"row_heading level0 row5\" >category</th>\n",
              "      <td id=\"T_0b613_row5_col0\" class=\"data row5 col0\" >4</td>\n",
              "      <td id=\"T_0b613_row5_col1\" class=\"data row5 col1\" >0.010000</td>\n",
              "    </tr>\n",
              "    <tr>\n",
              "      <th id=\"T_0b613_level0_row6\" class=\"row_heading level0 row6\" >created_at</th>\n",
              "      <td id=\"T_0b613_row6_col0\" class=\"data row6 col0\" >3</td>\n",
              "      <td id=\"T_0b613_row6_col1\" class=\"data row6 col1\" >0.000000</td>\n",
              "    </tr>\n",
              "    <tr>\n",
              "      <th id=\"T_0b613_level0_row7\" class=\"row_heading level0 row7\" >favorite_count</th>\n",
              "      <td id=\"T_0b613_row7_col0\" class=\"data row7 col0\" >3</td>\n",
              "      <td id=\"T_0b613_row7_col1\" class=\"data row7 col1\" >0.000000</td>\n",
              "    </tr>\n",
              "    <tr>\n",
              "      <th id=\"T_0b613_level0_row8\" class=\"row_heading level0 row8\" >retweet_count</th>\n",
              "      <td id=\"T_0b613_row8_col0\" class=\"data row8 col0\" >3</td>\n",
              "      <td id=\"T_0b613_row8_col1\" class=\"data row8 col1\" >0.000000</td>\n",
              "    </tr>\n",
              "  </tbody>\n",
              "</table>\n"
            ]
          },
          "metadata": {},
          "execution_count": 9
        }
      ]
    },
    {
      "cell_type": "code",
      "source": [
        "data.columns"
      ],
      "metadata": {
        "colab": {
          "base_uri": "https://localhost:8080/"
        },
        "id": "5nhsh6hVhYNw",
        "outputId": "c05d6ca5-fb60-403e-ed0e-2d4fb55b450a"
      },
      "execution_count": 10,
      "outputs": [
        {
          "output_type": "execute_result",
          "data": {
            "text/plain": [
              "Index(['status_id', 'text', 'created_at', 'favorite_count', 'retweet_count',\n",
              "       'location', 'followers_count', 'friends_count', 'statuses_count',\n",
              "       'category'],\n",
              "      dtype='object')"
            ]
          },
          "metadata": {},
          "execution_count": 10
        }
      ]
    },
    {
      "cell_type": "code",
      "source": [
        "#See the numerical columns in the data\n",
        "numerical=[col for col in data.columns if data[col].dtype!='object']\n",
        "numerical"
      ],
      "metadata": {
        "colab": {
          "base_uri": "https://localhost:8080/"
        },
        "id": "mD5TwUi_hfcR",
        "outputId": "9e2a5434-5444-4bb8-fab2-1cb568dd19d9"
      },
      "execution_count": 11,
      "outputs": [
        {
          "output_type": "execute_result",
          "data": {
            "text/plain": [
              "['favorite_count',\n",
              " 'retweet_count',\n",
              " 'followers_count',\n",
              " 'friends_count',\n",
              " 'statuses_count',\n",
              " 'category']"
            ]
          },
          "metadata": {},
          "execution_count": 11
        }
      ]
    },
    {
      "cell_type": "code",
      "source": [
        "#finding the Percentage of the label data and visulize with pie chart.\n",
        "#in the pie chart 88% of the data is not horm and and reaming 11% is harmfull tweets.\n",
        "data['category'].value_counts()\\\n",
        ".sort_values(ascending=False)\\\n",
        ".plot(kind='pie',explode=[0.2,0.05],\n",
        "    labels=['not-harm','harm'],\n",
        "    colors=['yellow','gray'],\n",
        "    autopct='%1.2f%%',\n",
        "    shadow=True,title=\"Percentage of the harm and not-harm twittes\",figsize=(16,5))\n",
        "plt.show()"
      ],
      "metadata": {
        "colab": {
          "base_uri": "https://localhost:8080/",
          "height": 444
        },
        "id": "r9XdvPmLhiD2",
        "outputId": "0159a4dd-9e0c-42fc-9990-ddd3f640017e"
      },
      "execution_count": 12,
      "outputs": [
        {
          "output_type": "display_data",
          "data": {
            "text/plain": [
              "<Figure size 1600x500 with 1 Axes>"
            ],
            "image/png": "[encoded data removed]"
          },
          "metadata": {}
        }
      ]
    },
    {
      "cell_type": "code",
      "source": [
        "#To visualize the top 50 countrys most twitted\n",
        "data['location'].value_counts()[:50]\\\n",
        ".sort_values(ascending=False)\\\n",
        ".plot(kind='bar',title=\"Which location most twitted\",figsize=(17,6),color=['red','green','blue','pink','orange'])\n",
        "plt.xlabel(\"Location\")\n",
        "plt.ylabel(\"Count of location\")\n",
        "plt.show()"
      ],
      "metadata": {
        "colab": {
          "base_uri": "https://localhost:8080/",
          "height": 506
        },
        "id": "0-IYzoVmhs8E",
        "outputId": "49c9c879-9ed0-4f36-e94a-a87f33b5a9b5"
      },
      "execution_count": 13,
      "outputs": [
        {
          "output_type": "display_data",
          "data": {
            "text/plain": [
              "<Figure size 1700x600 with 1 Axes>"
            ],
            "image/png": "[encoded data removed]"
          },
          "metadata": {}
        }
      ]
    },
    {
      "cell_type": "code",
      "source": [
        "data.groupby(['status_id'])['followers_count'].sum()[:50]\\\n",
        ".sort_values(ascending=False)\\\n",
        ".plot(kind='bar',figsize=(17,5),title=\"To visualize the follwer of the each member\",color='r')\n",
        "plt.xlabel(\"status_id\")\n",
        "plt.ylabel(\"Count of values\")\n",
        "plt.show()"
      ],
      "metadata": {
        "colab": {
          "base_uri": "https://localhost:8080/",
          "height": 431
        },
        "id": "U0riGiloh3Zf",
        "outputId": "26d30668-442b-455a-d15d-206c322ca47f"
      },
      "execution_count": 14,
      "outputs": [
        {
          "output_type": "display_data",
          "data": {
            "text/plain": [
              "<Figure size 1700x500 with 1 Axes>"
            ],
            "image/png": "[encoded data removed]"
          },
          "metadata": {}
        }
      ]
    },
    {
      "cell_type": "code",
      "source": [
        "# To visualize the followers_count in the data\n",
        "data['followers_count'].value_counts().sort_values(ascending=False)[:50].plot(kind='bar',figsize=(18,6),title='To visualize followers_count',color=['red','green'])\n",
        "plt.xlabel('followers_count')\n",
        "plt.ylabel('Count of followers')\n",
        "plt.show()"
      ],
      "metadata": {
        "colab": {
          "base_uri": "https://localhost:8080/",
          "height": 395
        },
        "id": "u47AA8S7iBgC",
        "outputId": "a557d3b9-632e-44ce-f289-d37f632a6b91"
      },
      "execution_count": 15,
      "outputs": [
        {
          "output_type": "display_data",
          "data": {
            "text/plain": [
              "<Figure size 1800x600 with 1 Axes>"
            ],
            "image/png": "[encoded data removed]"
          },
          "metadata": {}
        }
      ]
    },
    {
      "cell_type": "code",
      "source": [
        "data.head()"
      ],
      "metadata": {
        "colab": {
          "base_uri": "https://localhost:8080/",
          "height": 591
        },
        "id": "2JJdEgCQiFxo",
        "outputId": "2f7e4cc2-bd8c-4d18-e640-d297e1c53811"
      },
      "execution_count": 16,
      "outputs": [
        {
          "output_type": "execute_result",
          "data": {
            "text/plain": [
              "             status_id                                               text  \\\n",
              "0  1046207313588236290  Entitled, obnoxious, defensive, lying weasel. ...   \n",
              "1  1046207328113086464  Thank you  and  for what you did for the women...   \n",
              "2  1046207329589493760  Knitting (s) &amp; getting ready for January 1...   \n",
              "3  1046207341283168256  Yep just like triffeling women weaponized thei...   \n",
              "4  1046207347016826880  No, the President wants to end  movement posin...   \n",
              "\n",
              "             created_at  favorite_count  retweet_count         location  \\\n",
              "0  2018-09-30T01:17:15Z             5.0            1.0      McAllen, TX   \n",
              "1  2018-09-30T01:17:19Z             5.0            2.0        Tampa, FL   \n",
              "2  2018-09-30T01:17:19Z             0.0            0.0     St Cloud, MN   \n",
              "3  2018-09-30T01:17:22Z             1.0            0.0  flyover country   \n",
              "4  2018-09-30T01:17:23Z             0.0            0.0            World   \n",
              "\n",
              "   followers_count  friends_count  statuses_count  category  \n",
              "0           2253.0         2303.0         23856.0       0.0  \n",
              "1           2559.0         4989.0         19889.0       0.0  \n",
              "2             16.0          300.0             9.0       0.0  \n",
              "3           3573.0         3732.0         38361.0       1.0  \n",
              "4            294.0          312.0          7635.0       0.0  "
            ],
            "text/html": [
              "\n",
              "  <div id=\"df-65046864-0d11-4ee0-8e6f-0c71905463ea\" class=\"colab-df-container\">\n",
              "    <div>\n",
              "<style scoped>\n",
              "    .dataframe tbody tr th:only-of-type {\n",
              "        vertical-align: middle;\n",
              "    }\n",
              "\n",
              "    .dataframe tbody tr th {\n",
              "        vertical-align: top;\n",
              "    }\n",
              "\n",
              "    .dataframe thead th {\n",
              "        text-align: right;\n",
              "    }\n",
              "</style>\n",
              "<table border=\"1\" class=\"dataframe\">\n",
              "  <thead>\n",
              "    <tr style=\"text-align: right;\">\n",
              "      <th></th>\n",
              "      <th>status_id</th>\n",
              "      <th>text</th>\n",
              "      <th>created_at</th>\n",
              "      <th>favorite_count</th>\n",
              "      <th>retweet_count</th>\n",
              "      <th>location</th>\n",
              "      <th>followers_count</th>\n",
              "      <th>friends_count</th>\n",
              "      <th>statuses_count</th>\n",
              "      <th>category</th>\n",
              "    </tr>\n",
              "  </thead>\n",
              "  <tbody>\n",
              "    <tr>\n",
              "      <th>0</th>\n",
              "      <td>1046207313588236290</td>\n",
              "      <td>Entitled, obnoxious, defensive, lying weasel. ...</td>\n",
              "      <td>2018-09-30T01:17:15Z</td>\n",
              "      <td>5.0</td>\n",
              "      <td>1.0</td>\n",
              "      <td>McAllen, TX</td>\n",
              "      <td>2253.0</td>\n",
              "      <td>2303.0</td>\n",
              "      <td>23856.0</td>\n",
              "      <td>0.0</td>\n",
              "    </tr>\n",
              "    <tr>\n",
              "      <th>1</th>\n",
              "      <td>1046207328113086464</td>\n",
              "      <td>Thank you  and  for what you did for the women...</td>\n",
              "      <td>2018-09-30T01:17:19Z</td>\n",
              "      <td>5.0</td>\n",
              "      <td>2.0</td>\n",
              "      <td>Tampa, FL</td>\n",
              "      <td>2559.0</td>\n",
              "      <td>4989.0</td>\n",
              "      <td>19889.0</td>\n",
              "      <td>0.0</td>\n",
              "    </tr>\n",
              "    <tr>\n",
              "      <th>2</th>\n",
              "      <td>1046207329589493760</td>\n",
              "      <td>Knitting (s) &amp;amp; getting ready for January 1...</td>\n",
              "      <td>2018-09-30T01:17:19Z</td>\n",
              "      <td>0.0</td>\n",
              "      <td>0.0</td>\n",
              "      <td>St Cloud, MN</td>\n",
              "      <td>16.0</td>\n",
              "      <td>300.0</td>\n",
              "      <td>9.0</td>\n",
              "      <td>0.0</td>\n",
              "    </tr>\n",
              "    <tr>\n",
              "      <th>3</th>\n",
              "      <td>1046207341283168256</td>\n",
              "      <td>Yep just like triffeling women weaponized thei...</td>\n",
              "      <td>2018-09-30T01:17:22Z</td>\n",
              "      <td>1.0</td>\n",
              "      <td>0.0</td>\n",
              "      <td>flyover country</td>\n",
              "      <td>3573.0</td>\n",
              "      <td>3732.0</td>\n",
              "      <td>38361.0</td>\n",
              "      <td>1.0</td>\n",
              "    </tr>\n",
              "    <tr>\n",
              "      <th>4</th>\n",
              "      <td>1046207347016826880</td>\n",
              "      <td>No, the President wants to end  movement posin...</td>\n",
              "      <td>2018-09-30T01:17:23Z</td>\n",
              "      <td>0.0</td>\n",
              "      <td>0.0</td>\n",
              "      <td>World</td>\n",
              "      <td>294.0</td>\n",
              "      <td>312.0</td>\n",
              "      <td>7635.0</td>\n",
              "      <td>0.0</td>\n",
              "    </tr>\n",
              "  </tbody>\n",
              "</table>\n",
              "</div>\n",
              "    <div class=\"colab-df-buttons\">\n",
              "\n",
              "  <div class=\"colab-df-container\">\n",
              "    <button class=\"colab-df-convert\" onclick=\"convertToInteractive('df-65046864-0d11-4ee0-8e6f-0c71905463ea')\"\n",
              "            title=\"Convert this dataframe to an interactive table.\"\n",
              "            style=\"display:none;\">\n",
              "\n",
              "  <svg xmlns=\"http://www.w3.org/2000/svg\" height=\"24px\" viewBox=\"0 -960 960 960\">\n",
              "    <path d=\"M120-120v-720h720v720H120Zm60-500h600v-160H180v160Zm220 220h160v-160H400v160Zm0 220h160v-160H400v160ZM180-400h160v-160H180v160Zm440 0h160v-160H620v160ZM180-180h160v-160H180v160Zm440 0h160v-160H620v160Z\"/>\n",
              "  </svg>\n",
              "    </button>\n",
              "\n",
              "  <style>\n",
              "    .colab-df-container {\n",
              "      display:flex;\n",
              "      gap: 12px;\n",
              "    }\n",
              "\n",
              "    .colab-df-convert {\n",
              "      background-color: #E8F0FE;\n",
              "      border: none;\n",
              "      border-radius: 50%;\n",
              "      cursor: pointer;\n",
              "      display: none;\n",
              "      fill: #1967D2;\n",
              "      height: 32px;\n",
              "      padding: 0 0 0 0;\n",
              "      width: 32px;\n",
              "    }\n",
              "\n",
              "    .colab-df-convert:hover {\n",
              "      background-color: #E2EBFA;\n",
              "      box-shadow: 0px 1px 2px rgba(60, 64, 67, 0.3), 0px 1px 3px 1px rgba(60, 64, 67, 0.15);\n",
              "      fill: #174EA6;\n",
              "    }\n",
              "\n",
              "    .colab-df-buttons div {\n",
              "      margin-bottom: 4px;\n",
              "    }\n",
              "\n",
              "    [theme=dark] .colab-df-convert {\n",
              "      background-color: #3B4455;\n",
              "      fill: #D2E3FC;\n",
              "    }\n",
              "\n",
              "    [theme=dark] .colab-df-convert:hover {\n",
              "      background-color: #434B5C;\n",
              "      box-shadow: 0px 1px 3px 1px rgba(0, 0, 0, 0.15);\n",
              "      filter: drop-shadow(0px 1px 2px rgba(0, 0, 0, 0.3));\n",
              "      fill: #FFFFFF;\n",
              "    }\n",
              "  </style>\n",
              "\n",
              "    <script>\n",
              "      const buttonEl =\n",
              "        document.querySelector('#df-65046864-0d11-4ee0-8e6f-0c71905463ea button.colab-df-convert');\n",
              "      buttonEl.style.display =\n",
              "        google.colab.kernel.accessAllowed ? 'block' : 'none';\n",
              "\n",
              "      async function convertToInteractive(key) {\n",
              "        const element = document.querySelector('#df-65046864-0d11-4ee0-8e6f-0c71905463ea');\n",
              "        const dataTable =\n",
              "          await google.colab.kernel.invokeFunction('convertToInteractive',\n",
              "                                                    [key], {});\n",
              "        if (!dataTable) return;\n",
              "\n",
              "        const docLinkHtml = 'Like what you see? Visit the ' +\n",
              "          '<a target=\"_blank\" href=https://colab.research.google.com/notebooks/data_table.ipynb>data table notebook</a>'\n",
              "          + ' to learn more about interactive tables.';\n",
              "        element.innerHTML = '';\n",
              "        dataTable['output_type'] = 'display_data';\n",
              "        await google.colab.output.renderOutput(dataTable, element);\n",
              "        const docLink = document.createElement('div');\n",
              "        docLink.innerHTML = docLinkHtml;\n",
              "        element.appendChild(docLink);\n",
              "      }\n",
              "    </script>\n",
              "  </div>\n",
              "\n",
              "\n",
              "<div id=\"df-7db2a676-60e5-48ce-aa6a-48b877d6140a\">\n",
              "  <button class=\"colab-df-quickchart\" onclick=\"quickchart('df-7db2a676-60e5-48ce-aa6a-48b877d6140a')\"\n",
              "            title=\"Suggest charts\"\n",
              "            style=\"display:none;\">\n",
              "\n",
              "<svg xmlns=\"http://www.w3.org/2000/svg\" height=\"24px\"viewBox=\"0 0 24 24\"\n",
              "     width=\"24px\">\n",
              "    <g>\n",
              "        <path d=\"M19 3H5c-1.1 0-2 .9-2 2v14c0 1.1.9 2 2 2h14c1.1 0 2-.9 2-2V5c0-1.1-.9-2-2-2zM9 17H7v-7h2v7zm4 0h-2V7h2v10zm4 0h-2v-4h2v4z\"/>\n",
              "    </g>\n",
              "</svg>\n",
              "  </button>\n",
              "\n",
              "<style>\n",
              "  .colab-df-quickchart {\n",
              "      --bg-color: #E8F0FE;\n",
              "      --fill-color: #1967D2;\n",
              "      --hover-bg-color: #E2EBFA;\n",
              "      --hover-fill-color: #174EA6;\n",
              "      --disabled-fill-color: #AAA;\n",
              "      --disabled-bg-color: #DDD;\n",
              "  }\n",
              "\n",
              "  [theme=dark] .colab-df-quickchart {\n",
              "      --bg-color: #3B4455;\n",
              "      --fill-color: #D2E3FC;\n",
              "      --hover-bg-color: #434B5C;\n",
              "      --hover-fill-color: #FFFFFF;\n",
              "      --disabled-bg-color: #3B4455;\n",
              "      --disabled-fill-color: #666;\n",
              "  }\n",
              "\n",
              "  .colab-df-quickchart {\n",
              "    background-color: var(--bg-color);\n",
              "    border: none;\n",
              "    border-radius: 50%;\n",
              "    cursor: pointer;\n",
              "    display: none;\n",
              "    fill: var(--fill-color);\n",
              "    height: 32px;\n",
              "    padding: 0;\n",
              "    width: 32px;\n",
              "  }\n",
              "\n",
              "  .colab-df-quickchart:hover {\n",
              "    background-color: var(--hover-bg-color);\n",
              "    box-shadow: 0 1px 2px rgba(60, 64, 67, 0.3), 0 1px 3px 1px rgba(60, 64, 67, 0.15);\n",
              "    fill: var(--button-hover-fill-color);\n",
              "  }\n",
              "\n",
              "  .colab-df-quickchart-complete:disabled,\n",
              "  .colab-df-quickchart-complete:disabled:hover {\n",
              "    background-color: var(--disabled-bg-color);\n",
              "    fill: var(--disabled-fill-color);\n",
              "    box-shadow: none;\n",
              "  }\n",
              "\n",
              "  .colab-df-spinner {\n",
              "    border: 2px solid var(--fill-color);\n",
              "    border-color: transparent;\n",
              "    border-bottom-color: var(--fill-color);\n",
              "    animation:\n",
              "      spin 1s steps(1) infinite;\n",
              "  }\n",
              "\n",
              "  @keyframes spin {\n",
              "    0% {\n",
              "      border-color: transparent;\n",
              "      border-bottom-color: var(--fill-color);\n",
              "      border-left-color: var(--fill-color);\n",
              "    }\n",
              "    20% {\n",
              "      border-color: transparent;\n",
              "      border-left-color: var(--fill-color);\n",
              "      border-top-color: var(--fill-color);\n",
              "    }\n",
              "    30% {\n",
              "      border-color: transparent;\n",
              "      border-left-color: var(--fill-color);\n",
              "      border-top-color: var(--fill-color);\n",
              "      border-right-color: var(--fill-color);\n",
              "    }\n",
              "    40% {\n",
              "      border-color: transparent;\n",
              "      border-right-color: var(--fill-color);\n",
              "      border-top-color: var(--fill-color);\n",
              "    }\n",
              "    60% {\n",
              "      border-color: transparent;\n",
              "      border-right-color: var(--fill-color);\n",
              "    }\n",
              "    80% {\n",
              "      border-color: transparent;\n",
              "      border-right-color: var(--fill-color);\n",
              "      border-bottom-color: var(--fill-color);\n",
              "    }\n",
              "    90% {\n",
              "      border-color: transparent;\n",
              "      border-bottom-color: var(--fill-color);\n",
              "    }\n",
              "  }\n",
              "</style>\n",
              "\n",
              "  <script>\n",
              "    async function quickchart(key) {\n",
              "      const quickchartButtonEl =\n",
              "        document.querySelector('#' + key + ' button');\n",
              "      quickchartButtonEl.disabled = true;  // To prevent multiple clicks.\n",
              "      quickchartButtonEl.classList.add('colab-df-spinner');\n",
              "      try {\n",
              "        const charts = await google.colab.kernel.invokeFunction(\n",
              "            'suggestCharts', [key], {});\n",
              "      } catch (error) {\n",
              "        console.error('Error during call to suggestCharts:', error);\n",
              "      }\n",
              "      quickchartButtonEl.classList.remove('colab-df-spinner');\n",
              "      quickchartButtonEl.classList.add('colab-df-quickchart-complete');\n",
              "    }\n",
              "    (() => {\n",
              "      let quickchartButtonEl =\n",
              "        document.querySelector('#df-7db2a676-60e5-48ce-aa6a-48b877d6140a button');\n",
              "      quickchartButtonEl.style.display =\n",
              "        google.colab.kernel.accessAllowed ? 'block' : 'none';\n",
              "    })();\n",
              "  </script>\n",
              "</div>\n",
              "    </div>\n",
              "  </div>\n"
            ]
          },
          "metadata": {},
          "execution_count": 16
        }
      ]
    },
    {
      "cell_type": "code",
      "source": [
        "follwer_max=data['followers_count'].max()\n",
        "follwer_min=data['followers_count'].min()\n",
        "friend_max=data['friends_count'].max()\n",
        "friend_min=data['friends_count'].min()\n",
        "print(f'the highest followers in the data is {follwer_max} ')\n",
        "print(f'the highest followers in the data is {follwer_min}')\n",
        "print(f'the highest friends in the data is {friend_max}')\n",
        "print(f'the highest friends in the data is {friend_min}')"
      ],
      "metadata": {
        "colab": {
          "base_uri": "https://localhost:8080/"
        },
        "id": "g5NnO0JJjgZm",
        "outputId": "0090ca93-1bbc-4ce7-d6a3-340a908b3a4b"
      },
      "execution_count": 22,
      "outputs": [
        {
          "output_type": "stream",
          "name": "stdout",
          "text": [
            "the highest followers in the data is 42183602.0 \n",
            "the highest followers in the data is 0.0\n",
            "the highest friends in the data is 682639.0\n",
            "the highest friends in the data is 0.0\n"
          ]
        }
      ]
    },
    {
      "cell_type": "markdown",
      "source": [
        "NATURAL LANGUAGE PROCESSING\n"
      ],
      "metadata": {
        "id": "aHp2Sd4ejpIM"
      }
    },
    {
      "cell_type": "code",
      "source": [
        "import string\n",
        "string.punctuation"
      ],
      "metadata": {
        "colab": {
          "base_uri": "https://localhost:8080/",
          "height": 35
        },
        "id": "Q1ahPQaUjliv",
        "outputId": "9dd65653-4f33-4ae8-eca6-c89102f5a71a"
      },
      "execution_count": 23,
      "outputs": [
        {
          "output_type": "execute_result",
          "data": {
            "text/plain": [
              "'!\"#$%&\\'()*+,-./:;<=>?@[\\\\]^_`{|}~'"
            ],
            "application/vnd.google.colaboratory.intrinsic+json": {
              "type": "string"
            }
          },
          "metadata": {},
          "execution_count": 23
        }
      ]
    },
    {
      "cell_type": "code",
      "source": [
        "#Remove the Punctuations from the data with sample question\n",
        "harm=data[data['category']==1]\n",
        "q1=harm['text'].values[0]\n",
        "q1"
      ],
      "metadata": {
        "colab": {
          "base_uri": "https://localhost:8080/",
          "height": 53
        },
        "id": "E9TJPF-vjv_b",
        "outputId": "796ef1d7-b816-4eb6-9724-55dd936a10ea"
      },
      "execution_count": 24,
      "outputs": [
        {
          "output_type": "execute_result",
          "data": {
            "text/plain": [
              "'Yep just like triffeling women weaponized their poon!! Wonder if Kamala Harris ever extorted Willy Brown after throwing the poon on him, oh yeh, that how she got her first job me too is a JOKE! '"
            ],
            "application/vnd.google.colaboratory.intrinsic+json": {
              "type": "string"
            }
          },
          "metadata": {},
          "execution_count": 24
        }
      ]
    },
    {
      "cell_type": "code",
      "source": [
        "#We remove extra keywords in the data with sample question\n",
        "test_punc_remove=[char for char in q1 if char not in string.punctuation]\n",
        "test_punc_removed=''.join(test_punc_remove)\n",
        "test_punc_removed"
      ],
      "metadata": {
        "colab": {
          "base_uri": "https://localhost:8080/",
          "height": 53
        },
        "id": "2_II3wbhjz4f",
        "outputId": "8dd5a903-1bab-422d-ce55-63fd26845408"
      },
      "execution_count": 25,
      "outputs": [
        {
          "output_type": "execute_result",
          "data": {
            "text/plain": [
              "'Yep just like triffeling women weaponized their poon Wonder if Kamala Harris ever extorted Willy Brown after throwing the poon on him oh yeh that how she got her first job me too is a JOKE '"
            ],
            "application/vnd.google.colaboratory.intrinsic+json": {
              "type": "string"
            }
          },
          "metadata": {},
          "execution_count": 25
        }
      ]
    },
    {
      "cell_type": "code",
      "source": [
        "test_punc_removes=[]\n",
        "for char in q1:\n",
        "    if char not in string.punctuation:\n",
        "        test_punc_removes.append(char)\n",
        "punc_remove=''.join(test_punc_removes)\n",
        "punc_remove"
      ],
      "metadata": {
        "colab": {
          "base_uri": "https://localhost:8080/",
          "height": 53
        },
        "id": "b5j-Boq_j3gC",
        "outputId": "93ab6762-c6c2-4739-9da5-6f432832a0ee"
      },
      "execution_count": 26,
      "outputs": [
        {
          "output_type": "execute_result",
          "data": {
            "text/plain": [
              "'Yep just like triffeling women weaponized their poon Wonder if Kamala Harris ever extorted Willy Brown after throwing the poon on him oh yeh that how she got her first job me too is a JOKE '"
            ],
            "application/vnd.google.colaboratory.intrinsic+json": {
              "type": "string"
            }
          },
          "metadata": {},
          "execution_count": 26
        }
      ]
    },
    {
      "cell_type": "code",
      "source": [
        "def punction_remove(text):\n",
        "    if isinstance(text, float):\n",
        "        return text\n",
        "    else:\n",
        "        test_punc_remove=[char for char in text if char not in string.punctuation]\n",
        "        test_punc_removed=''.join(test_punc_remove)\n",
        "        return test_punc_removed\n",
        "data['text']=data['text'].apply(punction_remove)"
      ],
      "metadata": {
        "id": "2wIea3wEj8Zj"
      },
      "execution_count": 27,
      "outputs": []
    },
    {
      "cell_type": "code",
      "source": [
        "data['text']"
      ],
      "metadata": {
        "colab": {
          "base_uri": "https://localhost:8080/"
        },
        "id": "3Bcy2uzykArP",
        "outputId": "9f2430d2-bd5f-4e6c-92d0-47475b447959"
      },
      "execution_count": 28,
      "outputs": [
        {
          "output_type": "execute_result",
          "data": {
            "text/plain": [
              "0        Entitled obnoxious defensive lying weasel This...\n",
              "1        Thank you  and  for what you did for the women...\n",
              "2        Knitting s amp getting ready for January 19 20...\n",
              "3        Yep just like triffeling women weaponized thei...\n",
              "4        No the President wants to end  movement posing...\n",
              "                               ...                        \n",
              "75431    Respect to the wonderful folks who marched on ...\n",
              "75432                                    one beer brewer 🍺\n",
              "75433    RT  It started with the New York Times report ...\n",
              "75434                             has arrived in India 👏👏👏\n",
              "75435    Men in power Men committing crimes with impuni...\n",
              "Name: text, Length: 75436, dtype: object"
            ]
          },
          "metadata": {},
          "execution_count": 28
        }
      ]
    },
    {
      "cell_type": "code",
      "source": [
        " import nltk\n",
        "nltk.download('stopwords')"
      ],
      "metadata": {
        "colab": {
          "base_uri": "https://localhost:8080/"
        },
        "id": "jiDgs7hykO_Q",
        "outputId": "0dab77d8-6176-4833-99dd-3d81b160a781"
      },
      "execution_count": 30,
      "outputs": [
        {
          "output_type": "stream",
          "name": "stderr",
          "text": [
            "[nltk_data] Downloading package stopwords to /root/nltk_data...\n",
            "[nltk_data]   Unzipping corpora/stopwords.zip.\n"
          ]
        },
        {
          "output_type": "execute_result",
          "data": {
            "text/plain": [
              "True"
            ]
          },
          "metadata": {},
          "execution_count": 30
        }
      ]
    },
    {
      "cell_type": "code",
      "source": [
        "#Remove the stopwords from the data\n",
        "from nltk.tokenize import word_tokenize\n",
        "from nltk.corpus import stopwords\n",
        "from nltk.stem import WordNetLemmatizer\n",
        "from nltk.stem.snowball import SnowballStemmer\n",
        "from sklearn.feature_extraction.text import CountVectorizer\n",
        "from nltk.stem import WordNetLemmatizer\n",
        "from sklearn.model_selection import train_test_split\n",
        "stopwords=','.join(stopwords.words('english'))\n",
        "stopwords"
      ],
      "metadata": {
        "colab": {
          "base_uri": "https://localhost:8080/",
          "height": 157
        },
        "id": "vidQwZnvkEYB",
        "outputId": "1b2ab753-4891-49cb-f377-dd6f8e0dcf61"
      },
      "execution_count": 31,
      "outputs": [
        {
          "output_type": "execute_result",
          "data": {
            "text/plain": [
              "\"i,me,my,myself,we,our,ours,ourselves,you,you're,you've,you'll,you'd,your,yours,yourself,yourselves,he,him,his,himself,she,she's,her,hers,herself,it,it's,its,itself,they,them,their,theirs,themselves,what,which,who,whom,this,that,that'll,these,those,am,is,are,was,were,be,been,being,have,has,had,having,do,does,did,doing,a,an,the,and,but,if,or,because,as,until,while,of,at,by,for,with,about,against,between,into,through,during,before,after,above,below,to,from,up,down,in,out,on,off,over,under,again,further,then,once,here,there,when,where,why,how,all,any,both,each,few,more,most,other,some,such,no,nor,not,only,own,same,so,than,too,very,s,t,can,will,just,don,don't,should,should've,now,d,ll,m,o,re,ve,y,ain,aren,aren't,couldn,couldn't,didn,didn't,doesn,doesn't,hadn,hadn't,hasn,hasn't,haven,haven't,isn,isn't,ma,mightn,mightn't,mustn,mustn't,needn,needn't,shan,shan't,shouldn,shouldn't,wasn,wasn't,weren,weren't,won,won't,wouldn,wouldn't\""
            ],
            "application/vnd.google.colaboratory.intrinsic+json": {
              "type": "string"
            }
          },
          "metadata": {},
          "execution_count": 31
        }
      ]
    },
    {
      "cell_type": "markdown",
      "source": [
        "Tokenization with nltk libaries\n"
      ],
      "metadata": {
        "id": "11bIiENSkXR2"
      }
    },
    {
      "cell_type": "code",
      "source": [
        "import nltk\n",
        "nltk.download('punkt')"
      ],
      "metadata": {
        "colab": {
          "base_uri": "https://localhost:8080/"
        },
        "id": "VpVgHuAdkgUi",
        "outputId": "8589fc81-f967-492a-faa8-247e340ecdad"
      },
      "execution_count": 33,
      "outputs": [
        {
          "output_type": "stream",
          "name": "stderr",
          "text": [
            "[nltk_data] Downloading package punkt to /root/nltk_data...\n",
            "[nltk_data]   Unzipping tokenizers/punkt.zip.\n"
          ]
        },
        {
          "output_type": "execute_result",
          "data": {
            "text/plain": [
              "True"
            ]
          },
          "metadata": {},
          "execution_count": 33
        }
      ]
    },
    {
      "cell_type": "code",
      "source": [
        "tokenize=word_tokenize(punc_remove)\n",
        "tokenize"
      ],
      "metadata": {
        "colab": {
          "base_uri": "https://localhost:8080/"
        },
        "id": "1ypj_bYfkUAD",
        "outputId": "2a66bf57-2c35-4c02-bc70-b34100fd948c"
      },
      "execution_count": 34,
      "outputs": [
        {
          "output_type": "execute_result",
          "data": {
            "text/plain": [
              "['Yep',\n",
              " 'just',\n",
              " 'like',\n",
              " 'triffeling',\n",
              " 'women',\n",
              " 'weaponized',\n",
              " 'their',\n",
              " 'poon',\n",
              " 'Wonder',\n",
              " 'if',\n",
              " 'Kamala',\n",
              " 'Harris',\n",
              " 'ever',\n",
              " 'extorted',\n",
              " 'Willy',\n",
              " 'Brown',\n",
              " 'after',\n",
              " 'throwing',\n",
              " 'the',\n",
              " 'poon',\n",
              " 'on',\n",
              " 'him',\n",
              " 'oh',\n",
              " 'yeh',\n",
              " 'that',\n",
              " 'how',\n",
              " 'she',\n",
              " 'got',\n",
              " 'her',\n",
              " 'first',\n",
              " 'job',\n",
              " 'me',\n",
              " 'too',\n",
              " 'is',\n",
              " 'a',\n",
              " 'JOKE']"
            ]
          },
          "metadata": {},
          "execution_count": 34
        }
      ]
    },
    {
      "cell_type": "markdown",
      "source": [
        "Stopwords Removel Process"
      ],
      "metadata": {
        "id": "oF5oqtgZknEw"
      }
    },
    {
      "cell_type": "code",
      "source": [
        "def stopwords_english(text):\n",
        "    return [word for word in text if word.lower() not in stopwords]\n",
        "stopwords_remove=stopwords_english(tokenize)\n",
        "stopwords_remove"
      ],
      "metadata": {
        "colab": {
          "base_uri": "https://localhost:8080/"
        },
        "id": "Z4sHpE2Ukknc",
        "outputId": "2cecf52e-1cad-4596-e0da-7aa2894ebe5f"
      },
      "execution_count": 35,
      "outputs": [
        {
          "output_type": "execute_result",
          "data": {
            "text/plain": [
              "['Yep',\n",
              " 'like',\n",
              " 'triffeling',\n",
              " 'women',\n",
              " 'weaponized',\n",
              " 'poon',\n",
              " 'Wonder',\n",
              " 'Kamala',\n",
              " 'Harris',\n",
              " 'ever',\n",
              " 'extorted',\n",
              " 'Willy',\n",
              " 'Brown',\n",
              " 'throwing',\n",
              " 'poon',\n",
              " 'oh',\n",
              " 'yeh',\n",
              " 'got',\n",
              " 'first',\n",
              " 'job',\n",
              " 'JOKE']"
            ]
          },
          "metadata": {},
          "execution_count": 35
        }
      ]
    },
    {
      "cell_type": "code",
      "source": [
        "stemmer=SnowballStemmer(language='english')\n",
        "stemming_process=[stemmer.stem(word) for word in stopwords_remove]\n",
        "stemming_process"
      ],
      "metadata": {
        "colab": {
          "base_uri": "https://localhost:8080/"
        },
        "id": "41qhJzpZkt-2",
        "outputId": "7507184f-1dcf-471a-feaf-e8ca9447b84f"
      },
      "execution_count": 36,
      "outputs": [
        {
          "output_type": "execute_result",
          "data": {
            "text/plain": [
              "['yep',\n",
              " 'like',\n",
              " 'triffel',\n",
              " 'women',\n",
              " 'weapon',\n",
              " 'poon',\n",
              " 'wonder',\n",
              " 'kamala',\n",
              " 'harri',\n",
              " 'ever',\n",
              " 'extort',\n",
              " 'willi',\n",
              " 'brown',\n",
              " 'throw',\n",
              " 'poon',\n",
              " 'oh',\n",
              " 'yeh',\n",
              " 'got',\n",
              " 'first',\n",
              " 'job',\n",
              " 'joke']"
            ]
          },
          "metadata": {},
          "execution_count": 36
        }
      ]
    },
    {
      "cell_type": "code",
      "source": [
        "def stemming(text):\n",
        "    stemming=[stemmer.stem(word) for word in stopwords_remove]\n",
        "    stemming=''.join(stemming)\n",
        "    return stemming\n",
        "# lemmatizer = WordNetLemmatizer()\n",
        "# q1_lem=lemmatizer.lemmatize(stemming_process)\n",
        "# q1_lem"
      ],
      "metadata": {
        "id": "jBmCOygYkxi5"
      },
      "execution_count": 37,
      "outputs": []
    },
    {
      "cell_type": "code",
      "source": [
        "data.head()"
      ],
      "metadata": {
        "colab": {
          "base_uri": "https://localhost:8080/",
          "height": 608
        },
        "id": "S7no-O7uk41t",
        "outputId": "f58779b3-fe16-4ebb-b2be-1e6a21a7e533"
      },
      "execution_count": 38,
      "outputs": [
        {
          "output_type": "execute_result",
          "data": {
            "text/plain": [
              "             status_id                                               text  \\\n",
              "0  1046207313588236290  Entitled obnoxious defensive lying weasel This...   \n",
              "1  1046207328113086464  Thank you  and  for what you did for the women...   \n",
              "2  1046207329589493760  Knitting s amp getting ready for January 19 20...   \n",
              "3  1046207341283168256  Yep just like triffeling women weaponized thei...   \n",
              "4  1046207347016826880  No the President wants to end  movement posing...   \n",
              "\n",
              "             created_at  favorite_count  retweet_count         location  \\\n",
              "0  2018-09-30T01:17:15Z             5.0            1.0      McAllen, TX   \n",
              "1  2018-09-30T01:17:19Z             5.0            2.0        Tampa, FL   \n",
              "2  2018-09-30T01:17:19Z             0.0            0.0     St Cloud, MN   \n",
              "3  2018-09-30T01:17:22Z             1.0            0.0  flyover country   \n",
              "4  2018-09-30T01:17:23Z             0.0            0.0            World   \n",
              "\n",
              "   followers_count  friends_count  statuses_count  category  \n",
              "0           2253.0         2303.0         23856.0       0.0  \n",
              "1           2559.0         4989.0         19889.0       0.0  \n",
              "2             16.0          300.0             9.0       0.0  \n",
              "3           3573.0         3732.0         38361.0       1.0  \n",
              "4            294.0          312.0          7635.0       0.0  "
            ],
            "text/html": [
              "\n",
              "  <div id=\"df-7c5bd71e-6288-4c1c-87da-5359534b6d51\" class=\"colab-df-container\">\n",
              "    <div>\n",
              "<style scoped>\n",
              "    .dataframe tbody tr th:only-of-type {\n",
              "        vertical-align: middle;\n",
              "    }\n",
              "\n",
              "    .dataframe tbody tr th {\n",
              "        vertical-align: top;\n",
              "    }\n",
              "\n",
              "    .dataframe thead th {\n",
              "        text-align: right;\n",
              "    }\n",
              "</style>\n",
              "<table border=\"1\" class=\"dataframe\">\n",
              "  <thead>\n",
              "    <tr style=\"text-align: right;\">\n",
              "      <th></th>\n",
              "      <th>status_id</th>\n",
              "      <th>text</th>\n",
              "      <th>created_at</th>\n",
              "      <th>favorite_count</th>\n",
              "      <th>retweet_count</th>\n",
              "      <th>location</th>\n",
              "      <th>followers_count</th>\n",
              "      <th>friends_count</th>\n",
              "      <th>statuses_count</th>\n",
              "      <th>category</th>\n",
              "    </tr>\n",
              "  </thead>\n",
              "  <tbody>\n",
              "    <tr>\n",
              "      <th>0</th>\n",
              "      <td>1046207313588236290</td>\n",
              "      <td>Entitled obnoxious defensive lying weasel This...</td>\n",
              "      <td>2018-09-30T01:17:15Z</td>\n",
              "      <td>5.0</td>\n",
              "      <td>1.0</td>\n",
              "      <td>McAllen, TX</td>\n",
              "      <td>2253.0</td>\n",
              "      <td>2303.0</td>\n",
              "      <td>23856.0</td>\n",
              "      <td>0.0</td>\n",
              "    </tr>\n",
              "    <tr>\n",
              "      <th>1</th>\n",
              "      <td>1046207328113086464</td>\n",
              "      <td>Thank you  and  for what you did for the women...</td>\n",
              "      <td>2018-09-30T01:17:19Z</td>\n",
              "      <td>5.0</td>\n",
              "      <td>2.0</td>\n",
              "      <td>Tampa, FL</td>\n",
              "      <td>2559.0</td>\n",
              "      <td>4989.0</td>\n",
              "      <td>19889.0</td>\n",
              "      <td>0.0</td>\n",
              "    </tr>\n",
              "    <tr>\n",
              "      <th>2</th>\n",
              "      <td>1046207329589493760</td>\n",
              "      <td>Knitting s amp getting ready for January 19 20...</td>\n",
              "      <td>2018-09-30T01:17:19Z</td>\n",
              "      <td>0.0</td>\n",
              "      <td>0.0</td>\n",
              "      <td>St Cloud, MN</td>\n",
              "      <td>16.0</td>\n",
              "      <td>300.0</td>\n",
              "      <td>9.0</td>\n",
              "      <td>0.0</td>\n",
              "    </tr>\n",
              "    <tr>\n",
              "      <th>3</th>\n",
              "      <td>1046207341283168256</td>\n",
              "      <td>Yep just like triffeling women weaponized thei...</td>\n",
              "      <td>2018-09-30T01:17:22Z</td>\n",
              "      <td>1.0</td>\n",
              "      <td>0.0</td>\n",
              "      <td>flyover country</td>\n",
              "      <td>3573.0</td>\n",
              "      <td>3732.0</td>\n",
              "      <td>38361.0</td>\n",
              "      <td>1.0</td>\n",
              "    </tr>\n",
              "    <tr>\n",
              "      <th>4</th>\n",
              "      <td>1046207347016826880</td>\n",
              "      <td>No the President wants to end  movement posing...</td>\n",
              "      <td>2018-09-30T01:17:23Z</td>\n",
              "      <td>0.0</td>\n",
              "      <td>0.0</td>\n",
              "      <td>World</td>\n",
              "      <td>294.0</td>\n",
              "      <td>312.0</td>\n",
              "      <td>7635.0</td>\n",
              "      <td>0.0</td>\n",
              "    </tr>\n",
              "  </tbody>\n",
              "</table>\n",
              "</div>\n",
              "    <div class=\"colab-df-buttons\">\n",
              "\n",
              "  <div class=\"colab-df-container\">\n",
              "    <button class=\"colab-df-convert\" onclick=\"convertToInteractive('df-7c5bd71e-6288-4c1c-87da-5359534b6d51')\"\n",
              "            title=\"Convert this dataframe to an interactive table.\"\n",
              "            style=\"display:none;\">\n",
              "\n",
              "  <svg xmlns=\"http://www.w3.org/2000/svg\" height=\"24px\" viewBox=\"0 -960 960 960\">\n",
              "    <path d=\"M120-120v-720h720v720H120Zm60-500h600v-160H180v160Zm220 220h160v-160H400v160Zm0 220h160v-160H400v160ZM180-400h160v-160H180v160Zm440 0h160v-160H620v160ZM180-180h160v-160H180v160Zm440 0h160v-160H620v160Z\"/>\n",
              "  </svg>\n",
              "    </button>\n",
              "\n",
              "  <style>\n",
              "    .colab-df-container {\n",
              "      display:flex;\n",
              "      gap: 12px;\n",
              "    }\n",
              "\n",
              "    .colab-df-convert {\n",
              "      background-color: #E8F0FE;\n",
              "      border: none;\n",
              "      border-radius: 50%;\n",
              "      cursor: pointer;\n",
              "      display: none;\n",
              "      fill: #1967D2;\n",
              "      height: 32px;\n",
              "      padding: 0 0 0 0;\n",
              "      width: 32px;\n",
              "    }\n",
              "\n",
              "    .colab-df-convert:hover {\n",
              "      background-color: #E2EBFA;\n",
              "      box-shadow: 0px 1px 2px rgba(60, 64, 67, 0.3), 0px 1px 3px 1px rgba(60, 64, 67, 0.15);\n",
              "      fill: #174EA6;\n",
              "    }\n",
              "\n",
              "    .colab-df-buttons div {\n",
              "      margin-bottom: 4px;\n",
              "    }\n",
              "\n",
              "    [theme=dark] .colab-df-convert {\n",
              "      background-color: #3B4455;\n",
              "      fill: #D2E3FC;\n",
              "    }\n",
              "\n",
              "    [theme=dark] .colab-df-convert:hover {\n",
              "      background-color: #434B5C;\n",
              "      box-shadow: 0px 1px 3px 1px rgba(0, 0, 0, 0.15);\n",
              "      filter: drop-shadow(0px 1px 2px rgba(0, 0, 0, 0.3));\n",
              "      fill: #FFFFFF;\n",
              "    }\n",
              "  </style>\n",
              "\n",
              "    <script>\n",
              "      const buttonEl =\n",
              "        document.querySelector('#df-7c5bd71e-6288-4c1c-87da-5359534b6d51 button.colab-df-convert');\n",
              "      buttonEl.style.display =\n",
              "        google.colab.kernel.accessAllowed ? 'block' : 'none';\n",
              "\n",
              "      async function convertToInteractive(key) {\n",
              "        const element = document.querySelector('#df-7c5bd71e-6288-4c1c-87da-5359534b6d51');\n",
              "        const dataTable =\n",
              "          await google.colab.kernel.invokeFunction('convertToInteractive',\n",
              "                                                    [key], {});\n",
              "        if (!dataTable) return;\n",
              "\n",
              "        const docLinkHtml = 'Like what you see? Visit the ' +\n",
              "          '<a target=\"_blank\" href=https://colab.research.google.com/notebooks/data_table.ipynb>data table notebook</a>'\n",
              "          + ' to learn more about interactive tables.';\n",
              "        element.innerHTML = '';\n",
              "        dataTable['output_type'] = 'display_data';\n",
              "        await google.colab.output.renderOutput(dataTable, element);\n",
              "        const docLink = document.createElement('div');\n",
              "        docLink.innerHTML = docLinkHtml;\n",
              "        element.appendChild(docLink);\n",
              "      }\n",
              "    </script>\n",
              "  </div>\n",
              "\n",
              "\n",
              "<div id=\"df-9cf7425a-1cf3-4914-b071-f4a528fb0683\">\n",
              "  <button class=\"colab-df-quickchart\" onclick=\"quickchart('df-9cf7425a-1cf3-4914-b071-f4a528fb0683')\"\n",
              "            title=\"Suggest charts\"\n",
              "            style=\"display:none;\">\n",
              "\n",
              "<svg xmlns=\"http://www.w3.org/2000/svg\" height=\"24px\"viewBox=\"0 0 24 24\"\n",
              "     width=\"24px\">\n",
              "    <g>\n",
              "        <path d=\"M19 3H5c-1.1 0-2 .9-2 2v14c0 1.1.9 2 2 2h14c1.1 0 2-.9 2-2V5c0-1.1-.9-2-2-2zM9 17H7v-7h2v7zm4 0h-2V7h2v10zm4 0h-2v-4h2v4z\"/>\n",
              "    </g>\n",
              "</svg>\n",
              "  </button>\n",
              "\n",
              "<style>\n",
              "  .colab-df-quickchart {\n",
              "      --bg-color: #E8F0FE;\n",
              "      --fill-color: #1967D2;\n",
              "      --hover-bg-color: #E2EBFA;\n",
              "      --hover-fill-color: #174EA6;\n",
              "      --disabled-fill-color: #AAA;\n",
              "      --disabled-bg-color: #DDD;\n",
              "  }\n",
              "\n",
              "  [theme=dark] .colab-df-quickchart {\n",
              "      --bg-color: #3B4455;\n",
              "      --fill-color: #D2E3FC;\n",
              "      --hover-bg-color: #434B5C;\n",
              "      --hover-fill-color: #FFFFFF;\n",
              "      --disabled-bg-color: #3B4455;\n",
              "      --disabled-fill-color: #666;\n",
              "  }\n",
              "\n",
              "  .colab-df-quickchart {\n",
              "    background-color: var(--bg-color);\n",
              "    border: none;\n",
              "    border-radius: 50%;\n",
              "    cursor: pointer;\n",
              "    display: none;\n",
              "    fill: var(--fill-color);\n",
              "    height: 32px;\n",
              "    padding: 0;\n",
              "    width: 32px;\n",
              "  }\n",
              "\n",
              "  .colab-df-quickchart:hover {\n",
              "    background-color: var(--hover-bg-color);\n",
              "    box-shadow: 0 1px 2px rgba(60, 64, 67, 0.3), 0 1px 3px 1px rgba(60, 64, 67, 0.15);\n",
              "    fill: var(--button-hover-fill-color);\n",
              "  }\n",
              "\n",
              "  .colab-df-quickchart-complete:disabled,\n",
              "  .colab-df-quickchart-complete:disabled:hover {\n",
              "    background-color: var(--disabled-bg-color);\n",
              "    fill: var(--disabled-fill-color);\n",
              "    box-shadow: none;\n",
              "  }\n",
              "\n",
              "  .colab-df-spinner {\n",
              "    border: 2px solid var(--fill-color);\n",
              "    border-color: transparent;\n",
              "    border-bottom-color: var(--fill-color);\n",
              "    animation:\n",
              "      spin 1s steps(1) infinite;\n",
              "  }\n",
              "\n",
              "  @keyframes spin {\n",
              "    0% {\n",
              "      border-color: transparent;\n",
              "      border-bottom-color: var(--fill-color);\n",
              "      border-left-color: var(--fill-color);\n",
              "    }\n",
              "    20% {\n",
              "      border-color: transparent;\n",
              "      border-left-color: var(--fill-color);\n",
              "      border-top-color: var(--fill-color);\n",
              "    }\n",
              "    30% {\n",
              "      border-color: transparent;\n",
              "      border-left-color: var(--fill-color);\n",
              "      border-top-color: var(--fill-color);\n",
              "      border-right-color: var(--fill-color);\n",
              "    }\n",
              "    40% {\n",
              "      border-color: transparent;\n",
              "      border-right-color: var(--fill-color);\n",
              "      border-top-color: var(--fill-color);\n",
              "    }\n",
              "    60% {\n",
              "      border-color: transparent;\n",
              "      border-right-color: var(--fill-color);\n",
              "    }\n",
              "    80% {\n",
              "      border-color: transparent;\n",
              "      border-right-color: var(--fill-color);\n",
              "      border-bottom-color: var(--fill-color);\n",
              "    }\n",
              "    90% {\n",
              "      border-color: transparent;\n",
              "      border-bottom-color: var(--fill-color);\n",
              "    }\n",
              "  }\n",
              "</style>\n",
              "\n",
              "  <script>\n",
              "    async function quickchart(key) {\n",
              "      const quickchartButtonEl =\n",
              "        document.querySelector('#' + key + ' button');\n",
              "      quickchartButtonEl.disabled = true;  // To prevent multiple clicks.\n",
              "      quickchartButtonEl.classList.add('colab-df-spinner');\n",
              "      try {\n",
              "        const charts = await google.colab.kernel.invokeFunction(\n",
              "            'suggestCharts', [key], {});\n",
              "      } catch (error) {\n",
              "        console.error('Error during call to suggestCharts:', error);\n",
              "      }\n",
              "      quickchartButtonEl.classList.remove('colab-df-spinner');\n",
              "      quickchartButtonEl.classList.add('colab-df-quickchart-complete');\n",
              "    }\n",
              "    (() => {\n",
              "      let quickchartButtonEl =\n",
              "        document.querySelector('#df-9cf7425a-1cf3-4914-b071-f4a528fb0683 button');\n",
              "      quickchartButtonEl.style.display =\n",
              "        google.colab.kernel.accessAllowed ? 'block' : 'none';\n",
              "    })();\n",
              "  </script>\n",
              "</div>\n",
              "    </div>\n",
              "  </div>\n"
            ]
          },
          "metadata": {},
          "execution_count": 38
        }
      ]
    },
    {
      "cell_type": "code",
      "source": [
        "#def text_preprocessing(text):\n",
        "    #Word_tokenize\n",
        "    #words=word_tokenize(text)\n",
        "    #Stop words removal\n",
        "    #words=[word for word in words if word not in stopwords]\n",
        "    #Stemming process\n",
        "    #words=[stemmer.stem(word) for word in words]\n",
        "    #Lemmatization\n",
        "#     words=[lemmatizer.lemmatize(word) for word in words]\n",
        "    # Convert all words to lowercase\n",
        "    #words = [word.lower() for word in words]\n",
        "    #words=' '.join(words)\n",
        "    #return words\n",
        "\n",
        "#data['text'] = data['text'].apply(text_preprocessing)"
      ],
      "metadata": {
        "id": "XzC7ZerBlVFe"
      },
      "execution_count": 44,
      "outputs": []
    }
  ]
}